{
 "cells": [
  {
   "cell_type": "code",
   "execution_count": 1,
   "id": "3feca8a3",
   "metadata": {},
   "outputs": [
    {
     "name": "stderr",
     "output_type": "stream",
     "text": [
      "2022-07-08 03:19:04.322214: W tensorflow/stream_executor/platform/default/dso_loader.cc:64] Could not load dynamic library 'libcudart.so.11.0'; dlerror: libcudart.so.11.0: cannot open shared object file: No such file or directory\n",
      "2022-07-08 03:19:04.322238: I tensorflow/stream_executor/cuda/cudart_stub.cc:29] Ignore above cudart dlerror if you do not have a GPU set up on your machine.\n"
     ]
    }
   ],
   "source": [
    "import os\n",
    "import numpy as np\n",
    "import pandas as pd\n",
    "import tensorflow\n",
    "import seaborn as sns\n",
    "import matplotlib.pyplot as plt\n",
    "from matplotlib.pyplot import rcParams\n",
    "from sklearn.preprocessing import StandardScaler\n",
    "from sklearn.model_selection import train_test_split\n",
    "from sklearn.model_selection import GridSearchCV\n",
    "from keras.wrappers.scikit_learn import KerasClassifier\n",
    "from keras.models import Sequential\n",
    "from keras.layers import Dense, Activation, Dropout\n",
    "from numpy.random import seed"
   ]
  },
  {
   "cell_type": "code",
   "execution_count": 2,
   "id": "2dc56b23",
   "metadata": {},
   "outputs": [
    {
     "name": "stdout",
     "output_type": "stream",
     "text": [
      "/home/emmy/MLP-Titanic\n"
     ]
    },
    {
     "data": {
      "text/plain": [
       "['main.ipynb',\n",
       " 'train_clean.csv',\n",
       " 'Neural-Network Solution.csv',\n",
       " 'test_clean.csv',\n",
       " '.ipynb_checkpoints']"
      ]
     },
     "execution_count": 2,
     "metadata": {},
     "output_type": "execute_result"
    }
   ],
   "source": [
    "print(os.getcwd())\n",
    "os.listdir()"
   ]
  },
  {
   "cell_type": "code",
   "execution_count": 3,
   "id": "11d16257",
   "metadata": {},
   "outputs": [],
   "source": [
    "train = pd.read_csv('train_clean.csv')\n",
    "test = pd.read_csv('test_clean.csv')\n",
    "df = pd.concat([train, test], axis=0, sort=True)"
   ]
  },
  {
   "cell_type": "code",
   "execution_count": 6,
   "id": "d0633cbe",
   "metadata": {},
   "outputs": [
    {
     "data": {
      "text/html": [
       "<div>\n",
       "<style scoped>\n",
       "    .dataframe tbody tr th:only-of-type {\n",
       "        vertical-align: middle;\n",
       "    }\n",
       "\n",
       "    .dataframe tbody tr th {\n",
       "        vertical-align: top;\n",
       "    }\n",
       "\n",
       "    .dataframe thead th {\n",
       "        text-align: right;\n",
       "    }\n",
       "</style>\n",
       "<table border=\"1\" class=\"dataframe\">\n",
       "  <thead>\n",
       "    <tr style=\"text-align: right;\">\n",
       "      <th></th>\n",
       "      <th>Age</th>\n",
       "      <th>Cabin</th>\n",
       "      <th>Embarked</th>\n",
       "      <th>Family_Size</th>\n",
       "      <th>Fare</th>\n",
       "      <th>Name</th>\n",
       "      <th>Parch</th>\n",
       "      <th>PassengerId</th>\n",
       "      <th>Pclass</th>\n",
       "      <th>Sex</th>\n",
       "      <th>SibSp</th>\n",
       "      <th>Survived</th>\n",
       "      <th>Ticket</th>\n",
       "      <th>Title</th>\n",
       "    </tr>\n",
       "  </thead>\n",
       "  <tbody>\n",
       "    <tr>\n",
       "      <th>0</th>\n",
       "      <td>22.0</td>\n",
       "      <td>NaN</td>\n",
       "      <td>S</td>\n",
       "      <td>1</td>\n",
       "      <td>7.2500</td>\n",
       "      <td>Braund, Mr. Owen Harris</td>\n",
       "      <td>0</td>\n",
       "      <td>1</td>\n",
       "      <td>3</td>\n",
       "      <td>male</td>\n",
       "      <td>1</td>\n",
       "      <td>0.0</td>\n",
       "      <td>A/5 21171</td>\n",
       "      <td>Mr</td>\n",
       "    </tr>\n",
       "    <tr>\n",
       "      <th>1</th>\n",
       "      <td>38.0</td>\n",
       "      <td>C85</td>\n",
       "      <td>C</td>\n",
       "      <td>1</td>\n",
       "      <td>71.2833</td>\n",
       "      <td>Cumings, Mrs. John Bradley (Florence Briggs Th...</td>\n",
       "      <td>0</td>\n",
       "      <td>2</td>\n",
       "      <td>1</td>\n",
       "      <td>female</td>\n",
       "      <td>1</td>\n",
       "      <td>1.0</td>\n",
       "      <td>PC 17599</td>\n",
       "      <td>Mrs</td>\n",
       "    </tr>\n",
       "    <tr>\n",
       "      <th>2</th>\n",
       "      <td>26.0</td>\n",
       "      <td>NaN</td>\n",
       "      <td>S</td>\n",
       "      <td>0</td>\n",
       "      <td>7.9250</td>\n",
       "      <td>Heikkinen, Miss. Laina</td>\n",
       "      <td>0</td>\n",
       "      <td>3</td>\n",
       "      <td>3</td>\n",
       "      <td>female</td>\n",
       "      <td>0</td>\n",
       "      <td>1.0</td>\n",
       "      <td>STON/O2. 3101282</td>\n",
       "      <td>Miss</td>\n",
       "    </tr>\n",
       "    <tr>\n",
       "      <th>3</th>\n",
       "      <td>35.0</td>\n",
       "      <td>C123</td>\n",
       "      <td>S</td>\n",
       "      <td>1</td>\n",
       "      <td>53.1000</td>\n",
       "      <td>Futrelle, Mrs. Jacques Heath (Lily May Peel)</td>\n",
       "      <td>0</td>\n",
       "      <td>4</td>\n",
       "      <td>1</td>\n",
       "      <td>female</td>\n",
       "      <td>1</td>\n",
       "      <td>1.0</td>\n",
       "      <td>113803</td>\n",
       "      <td>Mrs</td>\n",
       "    </tr>\n",
       "    <tr>\n",
       "      <th>4</th>\n",
       "      <td>35.0</td>\n",
       "      <td>NaN</td>\n",
       "      <td>S</td>\n",
       "      <td>0</td>\n",
       "      <td>8.0500</td>\n",
       "      <td>Allen, Mr. William Henry</td>\n",
       "      <td>0</td>\n",
       "      <td>5</td>\n",
       "      <td>3</td>\n",
       "      <td>male</td>\n",
       "      <td>0</td>\n",
       "      <td>0.0</td>\n",
       "      <td>373450</td>\n",
       "      <td>Mr</td>\n",
       "    </tr>\n",
       "    <tr>\n",
       "      <th>5</th>\n",
       "      <td>30.0</td>\n",
       "      <td>NaN</td>\n",
       "      <td>Q</td>\n",
       "      <td>0</td>\n",
       "      <td>8.4583</td>\n",
       "      <td>Moran, Mr. James</td>\n",
       "      <td>0</td>\n",
       "      <td>6</td>\n",
       "      <td>3</td>\n",
       "      <td>male</td>\n",
       "      <td>0</td>\n",
       "      <td>0.0</td>\n",
       "      <td>330877</td>\n",
       "      <td>Mr</td>\n",
       "    </tr>\n",
       "    <tr>\n",
       "      <th>6</th>\n",
       "      <td>54.0</td>\n",
       "      <td>E46</td>\n",
       "      <td>S</td>\n",
       "      <td>0</td>\n",
       "      <td>51.8625</td>\n",
       "      <td>McCarthy, Mr. Timothy J</td>\n",
       "      <td>0</td>\n",
       "      <td>7</td>\n",
       "      <td>1</td>\n",
       "      <td>male</td>\n",
       "      <td>0</td>\n",
       "      <td>0.0</td>\n",
       "      <td>17463</td>\n",
       "      <td>Mr</td>\n",
       "    </tr>\n",
       "    <tr>\n",
       "      <th>7</th>\n",
       "      <td>2.0</td>\n",
       "      <td>NaN</td>\n",
       "      <td>S</td>\n",
       "      <td>4</td>\n",
       "      <td>21.0750</td>\n",
       "      <td>Palsson, Master. Gosta Leonard</td>\n",
       "      <td>1</td>\n",
       "      <td>8</td>\n",
       "      <td>3</td>\n",
       "      <td>male</td>\n",
       "      <td>3</td>\n",
       "      <td>0.0</td>\n",
       "      <td>349909</td>\n",
       "      <td>Master</td>\n",
       "    </tr>\n",
       "    <tr>\n",
       "      <th>8</th>\n",
       "      <td>27.0</td>\n",
       "      <td>NaN</td>\n",
       "      <td>S</td>\n",
       "      <td>2</td>\n",
       "      <td>11.1333</td>\n",
       "      <td>Johnson, Mrs. Oscar W (Elisabeth Vilhelmina Berg)</td>\n",
       "      <td>2</td>\n",
       "      <td>9</td>\n",
       "      <td>3</td>\n",
       "      <td>female</td>\n",
       "      <td>0</td>\n",
       "      <td>1.0</td>\n",
       "      <td>347742</td>\n",
       "      <td>Mrs</td>\n",
       "    </tr>\n",
       "    <tr>\n",
       "      <th>9</th>\n",
       "      <td>14.0</td>\n",
       "      <td>NaN</td>\n",
       "      <td>C</td>\n",
       "      <td>1</td>\n",
       "      <td>30.0708</td>\n",
       "      <td>Nasser, Mrs. Nicholas (Adele Achem)</td>\n",
       "      <td>0</td>\n",
       "      <td>10</td>\n",
       "      <td>2</td>\n",
       "      <td>female</td>\n",
       "      <td>1</td>\n",
       "      <td>1.0</td>\n",
       "      <td>237736</td>\n",
       "      <td>Mrs</td>\n",
       "    </tr>\n",
       "  </tbody>\n",
       "</table>\n",
       "</div>"
      ],
      "text/plain": [
       "    Age Cabin Embarked  Family_Size     Fare  \\\n",
       "0  22.0   NaN        S            1   7.2500   \n",
       "1  38.0   C85        C            1  71.2833   \n",
       "2  26.0   NaN        S            0   7.9250   \n",
       "3  35.0  C123        S            1  53.1000   \n",
       "4  35.0   NaN        S            0   8.0500   \n",
       "5  30.0   NaN        Q            0   8.4583   \n",
       "6  54.0   E46        S            0  51.8625   \n",
       "7   2.0   NaN        S            4  21.0750   \n",
       "8  27.0   NaN        S            2  11.1333   \n",
       "9  14.0   NaN        C            1  30.0708   \n",
       "\n",
       "                                                Name  Parch  PassengerId  \\\n",
       "0                            Braund, Mr. Owen Harris      0            1   \n",
       "1  Cumings, Mrs. John Bradley (Florence Briggs Th...      0            2   \n",
       "2                             Heikkinen, Miss. Laina      0            3   \n",
       "3       Futrelle, Mrs. Jacques Heath (Lily May Peel)      0            4   \n",
       "4                           Allen, Mr. William Henry      0            5   \n",
       "5                                   Moran, Mr. James      0            6   \n",
       "6                            McCarthy, Mr. Timothy J      0            7   \n",
       "7                     Palsson, Master. Gosta Leonard      1            8   \n",
       "8  Johnson, Mrs. Oscar W (Elisabeth Vilhelmina Berg)      2            9   \n",
       "9                Nasser, Mrs. Nicholas (Adele Achem)      0           10   \n",
       "\n",
       "   Pclass     Sex  SibSp  Survived            Ticket   Title  \n",
       "0       3    male      1       0.0         A/5 21171      Mr  \n",
       "1       1  female      1       1.0          PC 17599     Mrs  \n",
       "2       3  female      0       1.0  STON/O2. 3101282    Miss  \n",
       "3       1  female      1       1.0            113803     Mrs  \n",
       "4       3    male      0       0.0            373450      Mr  \n",
       "5       3    male      0       0.0            330877      Mr  \n",
       "6       1    male      0       0.0             17463      Mr  \n",
       "7       3    male      3       0.0            349909  Master  \n",
       "8       3  female      0       1.0            347742     Mrs  \n",
       "9       2  female      1       1.0            237736     Mrs  "
      ]
     },
     "execution_count": 6,
     "metadata": {},
     "output_type": "execute_result"
    }
   ],
   "source": [
    "df.head(10)"
   ]
  },
  {
   "cell_type": "code",
   "execution_count": 7,
   "id": "60839960",
   "metadata": {},
   "outputs": [
    {
     "data": {
      "image/png": "[encoded data removed]",
      "text/plain": [
       "<Figure size 432x288 with 1 Axes>"
      ]
     },
     "metadata": {
      "needs_background": "light"
     },
     "output_type": "display_data"
    }
   ],
   "source": [
    "sns.countplot(x='Pclass', data=df, palette='hls', hue='Survived')\n",
    "plt.xticks(rotation=45)\n",
    "plt.show()"
   ]
  },
  {
   "cell_type": "code",
   "execution_count": 8,
   "id": "27316930",
   "metadata": {},
   "outputs": [
    {
     "data": {
      "image/png": "[encoded data removed]",
      "text/plain": [
       "<Figure size 432x288 with 1 Axes>"
      ]
     },
     "metadata": {
      "needs_background": "light"
     },
     "output_type": "display_data"
    }
   ],
   "source": [
    "sns.countplot(x='Sex', data=df, palette='hls', hue='Survived')\n",
    "plt.xticks(rotation=45)\n",
    "plt.show()"
   ]
  },
  {
   "cell_type": "code",
   "execution_count": 9,
   "id": "1cfb79be",
   "metadata": {},
   "outputs": [
    {
     "data": {
      "image/png": "[encoded data removed]",
      "text/plain": [
       "<Figure size 432x288 with 1 Axes>"
      ]
     },
     "metadata": {
      "needs_background": "light"
     },
     "output_type": "display_data"
    }
   ],
   "source": [
    "sns.countplot(x='Embarked', data=df, palette='hls', hue='Survived')\n",
    "plt.xticks(rotation=45)\n",
    "plt.show()"
   ]
  },
  {
   "cell_type": "code",
   "execution_count": 10,
   "id": "4abdf10d",
   "metadata": {},
   "outputs": [],
   "source": [
    "df['Sex'] = df['Sex'].astype('category')\n",
    "df['Sex'] = df['Sex'].cat.codes"
   ]
  },
  {
   "cell_type": "code",
   "execution_count": 11,
   "id": "9f478f07",
   "metadata": {},
   "outputs": [],
   "source": [
    "categorical = ['Embarked', 'Title']\n",
    "\n",
    "for var in categorical:\n",
    "    df = pd.concat([df, \n",
    "                    pd.get_dummies(df[var], prefix=var)], axis=1)\n",
    "    del df[var]\n",
    "\n",
    "df.drop(['Cabin', 'Name', 'Ticket', 'PassengerId'], axis=1, inplace=True)"
   ]
  },
  {
   "cell_type": "code",
   "execution_count": 12,
   "id": "fcc22de8",
   "metadata": {},
   "outputs": [],
   "source": [
    "continuous = ['Age', 'Fare', 'Parch', 'Pclass', 'SibSp', 'Family_Size']\n",
    "\n",
    "scaler = StandardScaler()\n",
    "\n",
    "for var in continuous:\n",
    "    df[var] = df[var].astype('float64')\n",
    "    df[var] = scaler.fit_transform(df[var].values.reshape(-1, 1))"
   ]
  },
  {
   "cell_type": "code",
   "execution_count": 13,
   "id": "93d31704",
   "metadata": {},
   "outputs": [],
   "source": [
    "x_train = df[pd.notnull(df['Survived'])].drop(['Survived'], axis=1)\n",
    "y_train = df[pd.notnull(df['Survived'])]['Survived']\n",
    "x_test = df[pd.isnull(df['Survived'])].drop(['Survived'], axis=1)"
   ]
  },
  {
   "cell_type": "code",
   "execution_count": 18,
   "id": "d52c8233",
   "metadata": {},
   "outputs": [],
   "source": [
    "def create_model(lyrs=[8], act='linear', opt='Adam', dr=0.0):    \n",
    "    seed(42)    \n",
    "    model = Sequential()\n",
    "    model.add(Dense(lyrs[0], input_dim=x_train.shape[1], activation=act))\n",
    "    \n",
    "    for i in range(1,len(lyrs)):\n",
    "        model.add(Dense(lyrs[i], activation=act))\n",
    "    \n",
    "    model.add(Dropout(dr))\n",
    "    model.add(Dense(1, activation='sigmoid'))\n",
    "    model.compile(loss='binary_crossentropy', optimizer=opt, metrics=['accuracy'])\n",
    "    \n",
    "    return model"
   ]
  },
  {
   "cell_type": "code",
   "execution_count": 19,
   "id": "299d06dc",
   "metadata": {},
   "outputs": [
    {
     "name": "stdout",
     "output_type": "stream",
     "text": [
      "Model: \"sequential_1\"\n",
      "_________________________________________________________________\n",
      " Layer (type)                Output Shape              Param #   \n",
      "=================================================================\n",
      " dense (Dense)               (None, 8)                 136       \n",
      "                                                                 \n",
      " dropout (Dropout)           (None, 8)                 0         \n",
      "                                                                 \n",
      " dense_1 (Dense)             (None, 1)                 9         \n",
      "                                                                 \n",
      "=================================================================\n",
      "Total params: 145\n",
      "Trainable params: 145\n",
      "Non-trainable params: 0\n",
      "_________________________________________________________________\n"
     ]
    }
   ],
   "source": [
    "model = create_model()\n",
    "model.summary()"
   ]
  },
  {
   "cell_type": "code",
   "execution_count": 29,
   "id": "47696db7",
   "metadata": {},
   "outputs": [
    {
     "name": "stdout",
     "output_type": "stream",
     "text": [
      "val_accuracy : 88.26815485954285 %\n"
     ]
    }
   ],
   "source": [
    "training = model.fit(x_train, y_train, epochs=100, batch_size=32, validation_split=0.2, verbose=0)\n",
    "val_acc = np.mean(training.history['val_accuracy'])\n",
    "print('val_accuracy :',val_acc*100, \"%\")"
   ]
  },
  {
   "cell_type": "code",
   "execution_count": 35,
   "id": "0ce4bb35",
   "metadata": {},
   "outputs": [
    {
     "data": {
      "image/png": "[encoded data removed]",
      "text/plain": [
       "<Figure size 432x288 with 1 Axes>"
      ]
     },
     "metadata": {
      "needs_background": "light"
     },
     "output_type": "display_data"
    }
   ],
   "source": [
    "plt.plot(training.history['accuracy'])\n",
    "plt.plot(training.history['val_accuracy'])\n",
    "plt.title('model accuracy')\n",
    "plt.ylabel('accuracy')\n",
    "plt.xlabel('epoch')\n",
    "plt.legend(['train', 'validation'], loc='upper left')\n",
    "plt.show()"
   ]
  },
  {
   "cell_type": "code",
   "execution_count": 34,
   "id": "484356eb",
   "metadata": {},
   "outputs": [
    {
     "name": "stderr",
     "output_type": "stream",
     "text": [
      "/tmp/ipykernel_12105/733669994.py:1: DeprecationWarning: KerasClassifier is deprecated, use Sci-Keras (https://github.com/adriangb/scikeras) instead. See https://www.adriangb.com/scikeras/stable/migration.html for help migrating.\n",
      "  model = KerasClassifier(build_fn=create_model, verbose=0)\n"
     ]
    },
    {
     "name": "stdout",
     "output_type": "stream",
     "text": [
      "Fitting 3 folds for each of 6 candidates, totalling 18 fits\n",
      "[CV] END ...........................batch_size=16, epochs=50; total time=   2.0s\n",
      "[CV] END ...........................batch_size=16, epochs=50; total time=   2.0s\n",
      "[CV] END ...........................batch_size=16, epochs=50; total time=   2.2s\n",
      "[CV] END ..........................batch_size=16, epochs=100; total time=   3.5s\n",
      "[CV] END ..........................batch_size=16, epochs=100; total time=   3.8s\n",
      "[CV] END ..........................batch_size=16, epochs=100; total time=   3.3s\n",
      "[CV] END ...........................batch_size=32, epochs=50; total time=   1.1s\n",
      "[CV] END ...........................batch_size=32, epochs=50; total time=   1.1s\n",
      "[CV] END ...........................batch_size=32, epochs=50; total time=   1.1s\n",
      "[CV] END ..........................batch_size=32, epochs=100; total time=   1.9s\n",
      "[CV] END ..........................batch_size=32, epochs=100; total time=   1.8s\n",
      "[CV] END ..........................batch_size=32, epochs=100; total time=   1.9s\n",
      "[CV] END ...........................batch_size=64, epochs=50; total time=   0.8s\n",
      "[CV] END ...........................batch_size=64, epochs=50; total time=   0.8s\n",
      "[CV] END ...........................batch_size=64, epochs=50; total time=   0.8s\n",
      "[CV] END ..........................batch_size=64, epochs=100; total time=   1.2s\n",
      "[CV] END ..........................batch_size=64, epochs=100; total time=   1.4s\n",
      "[CV] END ..........................batch_size=64, epochs=100; total time=   1.5s\n"
     ]
    }
   ],
   "source": [
    "model = KerasClassifier(build_fn=create_model, verbose=0)\n",
    "batch_size = [16, 32, 64]\n",
    "epochs = [50, 100]\n",
    "param_grid = dict(batch_size=batch_size, epochs=epochs)\n",
    "\n",
    "grid = GridSearchCV(estimator=model,param_grid=param_grid,cv=3,verbose=2)\n",
    "\n",
    "grid_result = grid.fit(x_train, y_train)"
   ]
  },
  {
   "cell_type": "code",
   "execution_count": 36,
   "id": "87bf1f7a",
   "metadata": {},
   "outputs": [
    {
     "name": "stderr",
     "output_type": "stream",
     "text": [
      "/tmp/ipykernel_12105/2049596760.py:1: DeprecationWarning: KerasClassifier is deprecated, use Sci-Keras (https://github.com/adriangb/scikeras) instead. See https://www.adriangb.com/scikeras/stable/migration.html for help migrating.\n",
      "  model = KerasClassifier(build_fn=create_model, epochs=50, batch_size=32, verbose=0)\n"
     ]
    },
    {
     "name": "stdout",
     "output_type": "stream",
     "text": [
      "Fitting 5 folds for each of 6 candidates, totalling 30 fits\n",
      "[CV] END ............................................opt=SGD; total time=   1.4s\n",
      "[CV] END ............................................opt=SGD; total time=   1.3s\n",
      "[CV] END ............................................opt=SGD; total time=   1.5s\n",
      "[CV] END ............................................opt=SGD; total time=   1.3s\n",
      "[CV] END ............................................opt=SGD; total time=   1.2s\n",
      "[CV] END ........................................opt=RMSprop; total time=   1.3s\n",
      "[CV] END ........................................opt=RMSprop; total time=   1.4s\n",
      "[CV] END ........................................opt=RMSprop; total time=   1.5s\n",
      "[CV] END ........................................opt=RMSprop; total time=   1.3s\n",
      "[CV] END ........................................opt=RMSprop; total time=   1.3s\n",
      "[CV] END ........................................opt=Adagrad; total time=   1.4s\n",
      "[CV] END ........................................opt=Adagrad; total time=   1.7s\n",
      "[CV] END ........................................opt=Adagrad; total time=   1.2s\n",
      "[CV] END ........................................opt=Adagrad; total time=   1.4s\n",
      "[CV] END ........................................opt=Adagrad; total time=   1.5s\n",
      "[CV] END .......................................opt=Adadelta; total time=   1.4s\n",
      "[CV] END .......................................opt=Adadelta; total time=   1.3s\n",
      "[CV] END .......................................opt=Adadelta; total time=   1.4s\n",
      "[CV] END .......................................opt=Adadelta; total time=   1.3s\n",
      "[CV] END .......................................opt=Adadelta; total time=   1.3s\n",
      "[CV] END ...........................................opt=Adam; total time=   1.5s\n",
      "[CV] END ...........................................opt=Adam; total time=   1.4s\n",
      "[CV] END ...........................................opt=Adam; total time=   1.4s\n",
      "[CV] END ...........................................opt=Adam; total time=   1.4s\n",
      "[CV] END ...........................................opt=Adam; total time=   1.4s\n",
      "[CV] END ..........................................opt=Nadam; total time=   1.8s\n",
      "[CV] END ..........................................opt=Nadam; total time=   1.6s\n",
      "[CV] END ..........................................opt=Nadam; total time=   1.5s\n",
      "[CV] END ..........................................opt=Nadam; total time=   1.6s\n",
      "[CV] END ..........................................opt=Nadam; total time=   1.6s\n"
     ]
    }
   ],
   "source": [
    "model = KerasClassifier(build_fn=create_model, epochs=50, batch_size=32, verbose=0)\n",
    "optimizer = ['SGD', 'RMSprop', 'Adagrad', 'Adadelta', 'Adam', 'Nadam']\n",
    "param_grid = dict(opt=optimizer)\n",
    "grid = GridSearchCV(estimator=model, param_grid=param_grid, verbose=2)\n",
    "grid_result = grid.fit(x_train, y_train)"
   ]
  },
  {
   "cell_type": "code",
   "execution_count": 37,
   "id": "f4e5f182",
   "metadata": {},
   "outputs": [
    {
     "name": "stdout",
     "output_type": "stream",
     "text": [
      "Model: \"sequential_52\"\n",
      "_________________________________________________________________\n",
      " Layer (type)                Output Shape              Param #   \n",
      "=================================================================\n",
      " dense_102 (Dense)           (None, 8)                 136       \n",
      "                                                                 \n",
      " dropout_51 (Dropout)        (None, 8)                 0         \n",
      "                                                                 \n",
      " dense_103 (Dense)           (None, 1)                 9         \n",
      "                                                                 \n",
      "=================================================================\n",
      "Total params: 145\n",
      "Trainable params: 145\n",
      "Non-trainable params: 0\n",
      "_________________________________________________________________\n"
     ]
    }
   ],
   "source": [
    "model = create_model(lyrs=[8], dr=0.2)\n",
    "model.summary()"
   ]
  },
  {
   "cell_type": "code",
   "execution_count": 39,
   "id": "11960662",
   "metadata": {},
   "outputs": [
    {
     "name": "stdout",
     "output_type": "stream",
     "text": [
      "14/14 [==============================] - 0s 961us/step\n"
     ]
    }
   ],
   "source": [
    "test['Survived'] = model.predict(x_test)\n",
    "test['Survived'] = test['Survived'].apply(lambda x: round(x,0)).astype('int')\n",
    "solu = test[['PassengerId', 'Survived']]"
   ]
  },
  {
   "cell_type": "code",
   "execution_count": 40,
   "id": "514c5e25",
   "metadata": {},
   "outputs": [
    {
     "data": {
      "text/html": [
       "<div>\n",
       "<style scoped>\n",
       "    .dataframe tbody tr th:only-of-type {\n",
       "        vertical-align: middle;\n",
       "    }\n",
       "\n",
       "    .dataframe tbody tr th {\n",
       "        vertical-align: top;\n",
       "    }\n",
       "\n",
       "    .dataframe thead th {\n",
       "        text-align: right;\n",
       "    }\n",
       "</style>\n",
       "<table border=\"1\" class=\"dataframe\">\n",
       "  <thead>\n",
       "    <tr style=\"text-align: right;\">\n",
       "      <th></th>\n",
       "      <th>PassengerId</th>\n",
       "      <th>Survived</th>\n",
       "    </tr>\n",
       "  </thead>\n",
       "  <tbody>\n",
       "    <tr>\n",
       "      <th>0</th>\n",
       "      <td>892</td>\n",
       "      <td>0</td>\n",
       "    </tr>\n",
       "    <tr>\n",
       "      <th>1</th>\n",
       "      <td>893</td>\n",
       "      <td>0</td>\n",
       "    </tr>\n",
       "    <tr>\n",
       "      <th>2</th>\n",
       "      <td>894</td>\n",
       "      <td>0</td>\n",
       "    </tr>\n",
       "    <tr>\n",
       "      <th>3</th>\n",
       "      <td>895</td>\n",
       "      <td>0</td>\n",
       "    </tr>\n",
       "    <tr>\n",
       "      <th>4</th>\n",
       "      <td>896</td>\n",
       "      <td>1</td>\n",
       "    </tr>\n",
       "  </tbody>\n",
       "</table>\n",
       "</div>"
      ],
      "text/plain": [
       "   PassengerId  Survived\n",
       "0          892         0\n",
       "1          893         0\n",
       "2          894         0\n",
       "3          895         0\n",
       "4          896         1"
      ]
     },
     "execution_count": 40,
     "metadata": {},
     "output_type": "execute_result"
    }
   ],
   "source": [
    "solu.head()"
   ]
  },
  {
   "cell_type": "code",
   "execution_count": null,
   "id": "f847253d",
   "metadata": {},
   "outputs": [],
   "source": []
  }
 ],
 "metadata": {
  "kernelspec": {
   "display_name": "Python 3 (ipykernel)",
   "language": "python",
   "name": "python3"
  },
  "language_info": {
   "codemirror_mode": {
    "name": "ipython",
    "version": 3
   },
   "file_extension": ".py",
   "mimetype": "text/x-python",
   "name": "python",
   "nbconvert_exporter": "python",
   "pygments_lexer": "ipython3",
   "version": "3.9.7"
  }
 },
 "nbformat": 4,
 "nbformat_minor": 5
}
